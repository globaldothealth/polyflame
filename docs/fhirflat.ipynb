{
 "cells": [
  {
   "cell_type": "markdown",
   "id": "0",
   "metadata": {},
   "source": [
    "# Working with data: FHIRflat\n",
    "\n",
    "This Jupyter notebook shows how to load a sample FHIRflat folder and do simple statistics and plots. You can view a live version of this notebook on Google Colab or MyBinder by clicking the 'Launch' button (rocket icon) in the top right corner.\n",
    "\n",
    "```{note}\n",
    "On Google Colab, you will need to install the polyflame package first.\n",
    "You can use `pip` to install the package by typing into an empty code cell:\n",
    "\n",
    "    !pip install git+https://github.com/globaldothealth/polyflame\n",
    "```\n",
    "\n",
    "First we import the necessary functions:"
   ]
  },
  {
   "cell_type": "code",
   "execution_count": null,
   "id": "1",
   "metadata": {},
   "outputs": [],
   "source": [
    "import pandas as pd\n",
    "import polyflame.samples\n",
    "from polyflame import load_taxonomy, plot, plot_unpacked, with_readable_terms\n",
    "from polyflame.fhirflat import (\n",
    "    use_source,\n",
    "    list_parts,\n",
    "    read_part,\n",
    "    condition_proportion,\n",
    "    condition_upset,\n",
    "    age_pyramid\n",
    ")"
   ]
  },
  {
   "cell_type": "markdown",
   "id": "2",
   "metadata": {},
   "source": [
    "## Loading a source\n",
    "\n",
    "Then we load a source using the <project:#polyflame.fhirflat.use_source> function. A checksum **must** be specified. This is to ensure reproducibility of outputs by being able to verify data integrity of FHIRflat data."
   ]
  },
  {
   "cell_type": "code",
   "execution_count": null,
   "id": "3",
   "metadata": {},
   "outputs": [],
   "source": [
    "source = use_source(polyflame.samples.fhirflat, checksum=polyflame.samples.checksum_fhirflat)\n",
    "tx = load_taxonomy(\"fhirflat-isaric3\")\n",
    "source"
   ]
  },
  {
   "cell_type": "markdown",
   "id": "4",
   "metadata": {},
   "source": [
    "A `source` is a Python dictionary with pre-specified keys that tells data processing and visualization functions where to get information from. Some source types, such as FHIRflat, also have *parts*, which can be read in separately -- in the case of FHIRflat, parts correspond to [FHIR resources](https://hl7.org/fhir/resourcelist.html), with one parquet file for each resource. A list of parts for a source can be obtained using the <project:#polyflame.fhirflat.list_parts> function:"
   ]
  },
  {
   "cell_type": "code",
   "execution_count": null,
   "id": "5",
   "metadata": {},
   "outputs": [],
   "source": [
    "list_parts(source)"
   ]
  },
  {
   "cell_type": "markdown",
   "id": "6",
   "metadata": {},
   "source": [
    "We can read parts as a DataFrame using the <project:#polyflame.fhirflat.read_part> function:"
   ]
  },
  {
   "cell_type": "code",
   "execution_count": null,
   "id": "7",
   "metadata": {},
   "outputs": [],
   "source": [
    "read_part(source, \"patient\")"
   ]
  },
  {
   "cell_type": "markdown",
   "id": "8",
   "metadata": {},
   "source": [
    "The column names in FHIRflat resource parquet files are named after the nested FHIR attribute, such as `extension.birthSex.code`. These dotted fields can be cumbersome to work with, which is why `read_part()` provides a way to map columns:"
   ]
  },
  {
   "cell_type": "code",
   "execution_count": null,
   "id": "9",
   "metadata": {},
   "outputs": [],
   "source": [
    "patient = read_part(\n",
    "    source, \"patient\",\n",
    "    {\n",
    "        \"extension.birthSex.code\": \"gender\",\n",
    "        \"extension.age.value\": \"age\",\n",
    "        \"extension.age.code\": \"age_unit\",\n",
    "        \"id\": \"subject\",\n",
    "    }\n",
    ")\n",
    "patient"
   ]
  },
  {
   "cell_type": "markdown",
   "id": "10",
   "metadata": {},
   "source": [
    "This is more readable, however the field values are all coded into numerical terms from standard terminologies such as SNOMED and LOINC. While this is good for reproducibility and precision, it is easier for us to work with readable names. A helper function <project:#polyflame.fhirflat.with_readable_terms> maps clinical coded terms to readable terms given a taxonomy file. A taxonomy is a TOML file containing these mappings with sections for each type of variable:\n",
    "\n",
    "```toml\n",
    "[outcome]\n",
    "\"https://snomed.info/sct|371827001\" = \"alive\"\n",
    "\"https://snomed.info/sct|32485007\" = \"censored\"    # still hospitalised\n",
    "\"https://snomed.info/sct|306685000\" = \"censored\"   # transferred\n",
    "\"https://snomed.info/sct|419099009\" = \"death\"\n",
    "\"https://snomed.info/sct|306237005\" = \"censored\"   # palliative care\n",
    "\"https://snomed.info/sct|225928004\" = \"discharged\"\n",
    "\n",
    "[gender]\n",
    "\"http://snomed.info/sct|248153007\" = \"male\"\n",
    "\"http://snomed.info/sct|248152002\" = \"female\"\n",
    "\n",
    "[presenceAbsence]\n",
    "\"https://snomed.info/sct|373066003\" = true\n",
    "\"https://snomed.info/sct|373067005\" = false\n",
    "```\n",
    "\n",
    "PolyFLAME ships with a small taxonomy file to work with sample data. In actual use cases, you would have to provide this file yourself."
   ]
  },
  {
   "cell_type": "code",
   "execution_count": null,
   "id": "11",
   "metadata": {},
   "outputs": [],
   "source": [
    "with_readable_terms(patient, tx, [{\"term_column\": \"gender\"}])"
   ]
  },
  {
   "cell_type": "markdown",
   "id": "12",
   "metadata": {},
   "source": [
    "Most standard analysis such as those described in the next section shouldn't require you to perform these transformations yourself as they will be handled by the FHIRflat adapter. These are useful when you want to develop your own analyses using FHIRflat data."
   ]
  },
  {
   "cell_type": "markdown",
   "id": "13",
   "metadata": {},
   "source": [
    "## Analysis\n",
    "\n",
    "Once we have a source, we can start looking at standard analyses, such as the proportion of patients having a particular condition:"
   ]
  },
  {
   "cell_type": "code",
   "execution_count": null,
   "id": "14",
   "metadata": {},
   "outputs": [],
   "source": [
    "plot(condition_proportion(source, tx))"
   ]
  },
  {
   "cell_type": "markdown",
   "id": "15",
   "metadata": {},
   "source": [
    "Or, an [UpSet](https://en.wikipedia.org/wiki/UpSet_plot) plot showing top conditions and their co-occurrence:"
   ]
  },
  {
   "cell_type": "code",
   "execution_count": null,
   "id": "16",
   "metadata": {},
   "outputs": [],
   "source": [
    "plot(condition_upset(source))"
   ]
  },
  {
   "cell_type": "markdown",
   "id": "17",
   "metadata": {},
   "source": [
    "We can also look at the age pyramid, grouped by outcome type:"
   ]
  },
  {
   "cell_type": "code",
   "execution_count": null,
   "id": "18",
   "metadata": {},
   "outputs": [],
   "source": [
    "plot(age_pyramid(source))"
   ]
  },
  {
   "cell_type": "markdown",
   "id": "19",
   "metadata": {},
   "source": [
    "While we have shown examples using the standard FHIRflat analyses above, the plotting functions can take any generic dataframe as an input as long as they follow a particular *shape*. Here, we will use the `plot_unpacked()` function which allows us to pass dataframes directly, instead of expecting them as part of a dictionary like `plot()`. For example, to show a hypothetical UpSet plot showing frequency of intersection of movie genres: "
   ]
  },
  {
   "cell_type": "code",
   "execution_count": null,
   "id": "20",
   "metadata": {},
   "outputs": [],
   "source": [
    "df = pd.DataFrame({'crime': [1, 0, 1], 'fantasy': [0, 1, 1], 'drama': [1, 0, 0]})\n",
    "df"
   ]
  },
  {
   "cell_type": "code",
   "execution_count": null,
   "id": "21",
   "metadata": {},
   "outputs": [],
   "source": [
    "plot_unpacked(df, \"upset\")"
   ]
  },
  {
   "cell_type": "markdown",
   "id": "22",
   "metadata": {},
   "source": [
    "Having `plot_unpacked()` be a generic function makes PolyFLAME easy to extend to other data source types, like REDCap, or your own source.\n",
    "\n",
    "The [API reference](/api/fhirflat) contains the full list of analyses that this adapter supports."
   ]
  }
 ],
 "metadata": {
  "kernelspec": {
   "display_name": "Python 3 (ipykernel)",
   "language": "python",
   "name": "python3"
  },
  "language_info": {
   "codemirror_mode": {
    "name": "ipython",
    "version": 3
   },
   "file_extension": ".py",
   "mimetype": "text/x-python",
   "name": "python",
   "nbconvert_exporter": "python",
   "pygments_lexer": "ipython3",
   "version": "3.10.12"
  }
 },
 "nbformat": 4,
 "nbformat_minor": 5
}
