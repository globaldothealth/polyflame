{
 "cells": [
  {
   "cell_type": "markdown",
   "id": "0",
   "metadata": {},
   "source": [
    "# Generic plots\n",
    "\n",
    "This notebook shows how to use the `polyflame` library to generate plots for clinical data.\n",
    "In practice you will use the data format specific libraries to produce the data that will\n",
    "be plotted, such as from the [FHIRFlat](fhirflat) or REDCap formats.\n",
    "\n",
    "For all data types, the generic `plot()` function can be used to plot, with a plot type parameter."
   ]
  },
  {
   "cell_type": "code",
   "execution_count": null,
   "id": "1",
   "metadata": {},
   "outputs": [],
   "source": [
    "import pandas as pd\n",
    "from polyflame.plots import plot_unpacked"
   ]
  },
  {
   "cell_type": "markdown",
   "id": "2",
   "metadata": {},
   "source": [
    "## Proportion plots\n",
    "\n",
    "Proportion plots show the relative proportion frequency of a column. Usually used to show\n",
    "prevalence of clinical conditions"
   ]
  },
  {
   "cell_type": "code",
   "execution_count": null,
   "id": "3",
   "metadata": {},
   "outputs": [],
   "source": [
    "prop_data = pd.DataFrame({\"condition\": [\"cough\", \"sore throat\", \"fever\"], \"values\": [0.7, 0.6, 0.3]})\n",
    "prop_data"
   ]
  },
  {
   "cell_type": "code",
   "execution_count": null,
   "id": "4",
   "metadata": {},
   "outputs": [],
   "source": [
    "plot_unpacked(prop_data, \"proportion\", cols={\"label\": \"condition\", \"proportion\": \"values\"})"
   ]
  },
  {
   "cell_type": "markdown",
   "id": "5",
   "metadata": {},
   "source": [
    "## UpSet plots\n",
    "\n",
    "[UpSet plots](https://en.wikipedia.org/wiki/UpSet_plot) are used to show sets and the relative frequency of intersections. Thus for a three-element set, there will be 2^3^ = 8 intersections. Intersections are displayed through connected dots."
   ]
  },
  {
   "cell_type": "code",
   "execution_count": null,
   "id": "6",
   "metadata": {},
   "outputs": [],
   "source": [
    "upset_data = pd.DataFrame({\"headache\": [0, 1, 1], \"cough\": [1, 0, 1], \"sore throat\": [0, 0, 1]})\n",
    "upset_data"
   ]
  },
  {
   "cell_type": "code",
   "execution_count": null,
   "id": "7",
   "metadata": {},
   "outputs": [],
   "source": [
    "plot_unpacked(upset_data, \"upset\")"
   ]
  }
 ],
 "metadata": {
  "kernelspec": {
   "display_name": "Python 3 (ipykernel)",
   "language": "python",
   "name": "python3"
  },
  "language_info": {
   "codemirror_mode": {
    "name": "ipython",
    "version": 3
   },
   "file_extension": ".py",
   "mimetype": "text/x-python",
   "name": "python",
   "nbconvert_exporter": "python",
   "pygments_lexer": "ipython3",
   "version": "3.11.9"
  }
 },
 "nbformat": 4,
 "nbformat_minor": 5
}
